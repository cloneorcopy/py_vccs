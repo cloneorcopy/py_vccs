{
 "cells": [
  {
   "cell_type": "code",
   "execution_count": 3,
   "metadata": {},
   "outputs": [],
   "source": [
    "\n",
    "import numpy as np\n",
    "import open3d as o3d\n",
    "from vccs_supervoxel import segment,segment_knn,segment_vccs\n",
    "fname = r\"test_data\\0566_00.npy\"\n",
    "\n",
    "pts = np.load(fname)\n",
    "# for now the function calculates surface normals for the clustering\n",
    "# on it's own. Later we could even use scannet's surface normals\n",
    "out = segment_vccs(pts[:, :9], 1,1) #or segment_knn(pts[:, :9], 1) or segment(pts[:, :9], 1) \n",
    "# out should now have an additional cluster id in pos 10\n",
    "# as well as random colors for the supervoxels to be optionally\n",
    "# visualized\n",
    "pcd = o3d.geometry.PointCloud()\n",
    "pcd.points = o3d.utility.Vector3dVector(out[:, :3])\n",
    "pcd.colors = o3d.utility.Vector3dVector(out[:, 6:9] / 255.0)\n",
    "# or original colors\n",
    "# pcd.colors = o3d.utility.Vector3dVector(out[:, 3:6] / 255.0)\n",
    "o3d.visualization.draw_geometries([pcd])\n"
   ]
  }
 ],
 "metadata": {
  "kernelspec": {
   "display_name": "base",
   "language": "python",
   "name": "python3"
  },
  "language_info": {
   "codemirror_mode": {
    "name": "ipython",
    "version": 3
   },
   "file_extension": ".py",
   "mimetype": "text/x-python",
   "name": "python",
   "nbconvert_exporter": "python",
   "pygments_lexer": "ipython3",
   "version": "3.11.5"
  }
 },
 "nbformat": 4,
 "nbformat_minor": 2
}
